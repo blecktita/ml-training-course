{
 "cells": [
  {
   "cell_type": "code",
   "execution_count": 1,
   "metadata": {},
   "outputs": [],
   "source": [
    "import pandas as pd\n",
    "import numpy as np\n"
   ]
  },
  {
   "cell_type": "code",
   "execution_count": 28,
   "metadata": {},
   "outputs": [],
   "source": [
    "data = pd.read_csv('data/laptops.csv')"
   ]
  },
  {
   "cell_type": "code",
   "execution_count": null,
   "metadata": {},
   "outputs": [],
   "source": [
    "data['Final Price'].sort_values(ascending=False).head(5)"
   ]
  },
  {
   "cell_type": "code",
   "execution_count": null,
   "metadata": {},
   "outputs": [],
   "source": [
    "max(data[data['Brand'] == 'Dell']['Final Price'])"
   ]
  },
  {
   "cell_type": "code",
   "execution_count": null,
   "metadata": {},
   "outputs": [],
   "source": [
    "# Assuming df is your DataFrame\n",
    "# Step 1: Calculate the median value of the Screen column\n",
    "median_before = data['Screen'].median()\n",
    "\n",
    "# Step 2: Calculate the most frequent value (mode) of the Screen column\n",
    "mode_value = data['Screen'].mode()[0]\n",
    "\n",
    "# Step 3: Use the fillna method to fill the missing values in the Screen column with the most frequent value\n",
    "data['Screen'].fillna(mode_value, inplace=True)\n",
    "\n",
    "# Step 4: Calculate the median value of the Screen column again\n",
    "median_after = data['Screen'].median()\n",
    "\n",
    "# Step 5: Compare the median values before and after filling the missing values\n",
    "if median_before == median_after:\n",
    "    print(\"No\")\n",
    "else:\n",
    "    print(\"Yes\")"
   ]
  },
  {
   "cell_type": "code",
   "execution_count": null,
   "metadata": {},
   "outputs": [],
   "source": [
    "# Step 1: Select all the \"Innjoo\" laptops from the dataset\n",
    "innjoo_laptops = data[data['Brand'] == 'Innjoo']\n",
    "\n",
    "# Step 2: Select only columns RAM, Storage, Screen\n",
    "selected_columns = innjoo_laptops[['RAM', 'Storage', 'Screen']]\n",
    "\n",
    "# Step 3: Get the underlying NumPy array. Let's call it X\n",
    "X = selected_columns.to_numpy()\n",
    "\n",
    "# Step 4: Compute matrix-matrix multiplication between the transpose of X and X. To get the transpose, use X.T. Let's call the result XTX\n",
    "XTX = X.T @ X\n",
    "\n",
    "# Step 5: Compute the inverse of XTX\n",
    "XTX_inv = np.linalg.inv(XTX)\n",
    "\n",
    "# Step 6: Create an array y with values [1100, 1300, 800, 900, 1000, 1100]\n",
    "y = np.array([1100, 1300, 800, 900, 1000, 1100])\n",
    "\n",
    "# Step 7: Multiply the inverse of XTX with the transpose of X, and then multiply the result by y. Call the result w\n",
    "w = XTX_inv @ X.T @ y\n",
    "\n",
    "# Step 8: Compute the sum of all the elements of the result\n",
    "sum_of_elements = np.sum(w)\n",
    "\n",
    "print(\"Sum of all the elements of the result:\", sum_of_elements)\n"
   ]
  }
 ],
 "metadata": {
  "kernelspec": {
   "display_name": "ml_training_course",
   "language": "python",
   "name": "python3"
  },
  "language_info": {
   "codemirror_mode": {
    "name": "ipython",
    "version": 3
   },
   "file_extension": ".py",
   "mimetype": "text/x-python",
   "name": "python",
   "nbconvert_exporter": "python",
   "pygments_lexer": "ipython3",
   "version": "3.12.4"
  }
 },
 "nbformat": 4,
 "nbformat_minor": 2
}
